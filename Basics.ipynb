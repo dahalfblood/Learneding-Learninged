{
 "cells": [
  {
   "cell_type": "code",
   "execution_count": 2,
   "id": "1151e883",
   "metadata": {
    "scrolled": false
   },
   "outputs": [
    {
     "name": "stdout",
     "output_type": "stream",
     "text": [
      "Number Pattern \n",
      "1 \n",
      "1 2 \n",
      "1 2 3 \n",
      "1 2 3 4 \n",
      "1 2 3 4 5 \n"
     ]
    }
   ],
   "source": [
    "##Did, but Perfered pynative syntax, so yoink\n",
    "print(\"Number Pattern \")\n",
    "\n",
    "#Decide the row count. (above pattern contains 5 rows)\n",
    "row = 5\n",
    "#start: 1\n",
    "##stop: row+1 (range never include stop number in result)\n",
    "###step: 1\n",
    "####run loop 5 times\n",
    "for i in range(1, row + 1, 1):\n",
    "    #Run inner loop i+1 times\n",
    "    for j in range(1, i + 1):\n",
    "        print(j, end=' ')\n",
    "    #empty line after each row\n",
    "    print(\"\")"
   ]
  },
  {
   "cell_type": "code",
   "execution_count": 11,
   "id": "b7ee9bae",
   "metadata": {},
   "outputs": [
    {
     "name": "stdout",
     "output_type": "stream",
     "text": [
      "Enter a Number: 69\n",
      "The Sum of all numbers in 69 is: 2415\n"
     ]
    }
   ],
   "source": [
    "#mine\n",
    "num = int(input(\"Enter a Number: \"))\n",
    "print(f\"The Sum of all numbers in {num} is:\",sum(range(1,num+1)))"
   ]
  },
  {
   "cell_type": "code",
   "execution_count": 23,
   "id": "47d132eb",
   "metadata": {},
   "outputs": [
    {
     "name": "stdout",
     "output_type": "stream",
     "text": [
      "Enter a number: 6\n",
      "6\n",
      "12\n",
      "18\n",
      "24\n",
      "30\n",
      "36\n",
      "42\n",
      "48\n",
      "54\n",
      "60\n",
      "66\n",
      "72\n"
     ]
    }
   ],
   "source": [
    "#Did, but Perfered pynative syntax so, yoink\n",
    "n = int(input(\"Enter a number: \"))\n",
    "\n",
    "\n",
    "for i in range(1,13):\n",
    "    p = i*n\n",
    "    print(p)\n",
    "    "
   ]
  },
  {
   "cell_type": "code",
   "execution_count": 31,
   "id": "951a36b7",
   "metadata": {},
   "outputs": [
    {
     "name": "stdout",
     "output_type": "stream",
     "text": [
      "75\n",
      "300\n",
      "499\n",
      "222\n"
     ]
    }
   ],
   "source": [
    "#mine\n",
    "numlist = [12, 75, 300, 499, 222, 500, 10, 1]\n",
    "\n",
    "for item in numlist:\n",
    "    if item > 499:\n",
    "        break\n",
    "    elif item > 50:\n",
    "        print(item)"
   ]
  },
  {
   "cell_type": "code",
   "execution_count": 41,
   "id": "ac455123",
   "metadata": {},
   "outputs": [
    {
     "name": "stdout",
     "output_type": "stream",
     "text": [
      "5 4 3 2 1 \n",
      "4 3 2 1 \n",
      "3 2 1 \n",
      "2 1 \n",
      "1 \n",
      "\n"
     ]
    }
   ],
   "source": [
    "n = 5\n",
    "k = 5\n",
    "for i in range(0,n+1):\n",
    "    for j in range(k-i,0,-1):\n",
    "        print(j,end=' ')\n",
    "    print()"
   ]
  },
  {
   "cell_type": "code",
   "execution_count": null,
   "id": "5ef183f3",
   "metadata": {},
   "outputs": [],
   "source": []
  }
 ],
 "metadata": {
  "kernelspec": {
   "display_name": "Python 3 (ipykernel)",
   "language": "python",
   "name": "python3"
  },
  "language_info": {
   "codemirror_mode": {
    "name": "ipython",
    "version": 3
   },
   "file_extension": ".py",
   "mimetype": "text/x-python",
   "name": "python",
   "nbconvert_exporter": "python",
   "pygments_lexer": "ipython3",
   "version": "3.9.7"
  }
 },
 "nbformat": 4,
 "nbformat_minor": 5
}
